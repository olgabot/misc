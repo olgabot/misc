{
 "cells": [
  {
   "cell_type": "code",
   "execution_count": 1,
   "metadata": {},
   "outputs": [
    {
     "name": "stdout",
     "output_type": "stream",
     "text": [
      "['/home/pranathi/miniconda3/lib/python3.7/site-packages/screed-1.0.4-py3.7.egg/screed']\n"
     ]
    }
   ],
   "source": [
    "import sys\n",
    "sys.path.append(\"/home/pranathi/code/screed/\")\n",
    "import glob\n",
    "import screed\n",
    "import os\n",
    "print(screed.__path__)\n",
    "from multiprocessing import Pool"
   ]
  },
  {
   "cell_type": "code",
   "execution_count": 10,
   "metadata": {},
   "outputs": [
    {
     "name": "stdout",
     "output_type": "stream",
     "text": [
      "2\n",
      "1\n",
      "/mnt/ibm_lg/pranathi/kmer-hashing/golumbeanu2018/kmermaid/k2g_uniprot/extract_coding/SRR5763194_GSM2687512_Mock_12h_Homo_sapiens_RNA-Seq__coding_reads_peptides_clean.fasta\n"
     ]
    }
   ],
   "source": [
    "K2G_FASTA_PATH = \"/mnt/ibm_lg/pranathi/kmer-hashing/golumbeanu2018/kmermaid/k2g_uniprot/extract_coding/\"\n",
    "NO_K2G_FASTA_PATH = \"/mnt/ibm_lg/pranathi/kmer-hashing/golumbeanu2018/kmermaid/no_k2g_uniprot/extract_coding/\"\n",
    "K2G_INTERSECT = \"/mnt/ibm_lg/pranathi/kmer-hashing/golumbeanu2018/kmermaid/k2g_uniprot/analysis_july9/\"\n",
    "\n",
    "if not os.path.exists(K2G_INTERSECT):\n",
    "    os.makedirs(K2G_INTERSECT)\n",
    "else:\n",
    "    pass\n",
    "\n",
    "k2g_fastas = glob.glob(os.path.join(K2G_FASTA_PATH, \"*_peptides_clean.fasta\"))\n",
    "no_k2g_fastas = glob.glob(os.path.join(NO_K2G_FASTA_PATH, \"*_peptides_clean.fasta\"))\n",
    "print(len(k2g_fastas))\n",
    "print(len(no_k2g_fastas))\n",
    "\n",
    "print(k2g_fastas[0])\n"
   ]
  },
  {
   "cell_type": "code",
   "execution_count": 11,
   "metadata": {},
   "outputs": [],
   "source": [
    "def get_record_names(path):\n",
    "    print(path)\n",
    "    db = screed.read_fasta_sequences(path)\n",
    "    names = db.keys()\n",
    "    db.close()\n",
    "    return names"
   ]
  },
  {
   "cell_type": "code",
   "execution_count": 12,
   "metadata": {},
   "outputs": [],
   "source": [
    "def save_reads_only_in_k2g(index):\n",
    "    k2g = k2g_fastas[index]\n",
    "    no_k2g = \\\n",
    "        os.path.join(NO_K2G_FASTA_PATH, os.path.basename(k2g))\n",
    "    record_names_no_k2g = get_record_names(no_k2g)\n",
    "    filename = os.path.join(K2G_INTERSECT, os.path.basename(k2g).replace(\".fasta\", \"_intersect.fasta\"))\n",
    "    result_fasta = open(filename, \"a\")\n",
    "    print(record_names_no_k2g[:5])\n",
    "    print(k2g)\n",
    "    db_k2g = screed.read_fasta_sequences(k2g)\n",
    "    for name in db_k2g:\n",
    "        if name not in record_names_no_k2g:\n",
    "            continue\n",
    "        result_fasta.write(\">{}\\n{}\\n\".format(name, db[name].sequence))  "
   ]
  },
  {
   "cell_type": "code",
   "execution_count": 14,
   "metadata": {},
   "outputs": [
    {
     "name": "stdout",
     "output_type": "stream",
     "text": [
      "/mnt/ibm_lg/pranathi/kmer-hashing/golumbeanu2018/kmermaid/no_k2g_uniprot/extract_coding/SRR5763199_GSM2687517_HIV_6h_Homo_sapiens_RNA-Seq__coding_reads_peptides_clean.fasta\n"
     ]
    },
    {
     "ename": "IntegrityError",
     "evalue": "UNIQUE constraint failed: DICTIONARY_TABLE.name",
     "output_type": "error",
     "traceback": [
      "\u001b[0;31m---------------------------------------------------------------------------\u001b[0m",
      "\u001b[0;31mIntegrityError\u001b[0m                            Traceback (most recent call last)",
      "\u001b[0;32m<ipython-input-14-9933d20a4616>\u001b[0m in \u001b[0;36m<module>\u001b[0;34m\u001b[0m\n\u001b[0;32m----> 1\u001b[0;31m \u001b[0msave_reads_only_in_k2g\u001b[0m\u001b[0;34m(\u001b[0m\u001b[0;36m1\u001b[0m\u001b[0;34m)\u001b[0m\u001b[0;34m\u001b[0m\u001b[0;34m\u001b[0m\u001b[0m\n\u001b[0m",
      "\u001b[0;32m<ipython-input-12-a8e601e97200>\u001b[0m in \u001b[0;36msave_reads_only_in_k2g\u001b[0;34m(index)\u001b[0m\n\u001b[1;32m      3\u001b[0m     \u001b[0mno_k2g\u001b[0m \u001b[0;34m=\u001b[0m\u001b[0;31m \u001b[0m\u001b[0;31m\\\u001b[0m\u001b[0;34m\u001b[0m\u001b[0;34m\u001b[0m\u001b[0m\n\u001b[1;32m      4\u001b[0m         \u001b[0mos\u001b[0m\u001b[0;34m.\u001b[0m\u001b[0mpath\u001b[0m\u001b[0;34m.\u001b[0m\u001b[0mjoin\u001b[0m\u001b[0;34m(\u001b[0m\u001b[0mNO_K2G_FASTA_PATH\u001b[0m\u001b[0;34m,\u001b[0m \u001b[0mos\u001b[0m\u001b[0;34m.\u001b[0m\u001b[0mpath\u001b[0m\u001b[0;34m.\u001b[0m\u001b[0mbasename\u001b[0m\u001b[0;34m(\u001b[0m\u001b[0mk2g\u001b[0m\u001b[0;34m)\u001b[0m\u001b[0;34m)\u001b[0m\u001b[0;34m\u001b[0m\u001b[0;34m\u001b[0m\u001b[0m\n\u001b[0;32m----> 5\u001b[0;31m     \u001b[0mrecord_names_no_k2g\u001b[0m \u001b[0;34m=\u001b[0m \u001b[0mget_record_names\u001b[0m\u001b[0;34m(\u001b[0m\u001b[0mno_k2g\u001b[0m\u001b[0;34m)\u001b[0m\u001b[0;34m\u001b[0m\u001b[0;34m\u001b[0m\u001b[0m\n\u001b[0m\u001b[1;32m      6\u001b[0m     \u001b[0mfilename\u001b[0m \u001b[0;34m=\u001b[0m \u001b[0mos\u001b[0m\u001b[0;34m.\u001b[0m\u001b[0mpath\u001b[0m\u001b[0;34m.\u001b[0m\u001b[0mjoin\u001b[0m\u001b[0;34m(\u001b[0m\u001b[0mK2G_INTERSECT\u001b[0m\u001b[0;34m,\u001b[0m \u001b[0mos\u001b[0m\u001b[0;34m.\u001b[0m\u001b[0mpath\u001b[0m\u001b[0;34m.\u001b[0m\u001b[0mbasename\u001b[0m\u001b[0;34m(\u001b[0m\u001b[0mk2g\u001b[0m\u001b[0;34m)\u001b[0m\u001b[0;34m.\u001b[0m\u001b[0mreplace\u001b[0m\u001b[0;34m(\u001b[0m\u001b[0;34m\".fasta\"\u001b[0m\u001b[0;34m,\u001b[0m \u001b[0;34m\"_intersect.fasta\"\u001b[0m\u001b[0;34m)\u001b[0m\u001b[0;34m)\u001b[0m\u001b[0;34m\u001b[0m\u001b[0;34m\u001b[0m\u001b[0m\n\u001b[1;32m      7\u001b[0m     \u001b[0mresult_fasta\u001b[0m \u001b[0;34m=\u001b[0m \u001b[0mopen\u001b[0m\u001b[0;34m(\u001b[0m\u001b[0mfilename\u001b[0m\u001b[0;34m,\u001b[0m \u001b[0;34m\"a\"\u001b[0m\u001b[0;34m)\u001b[0m\u001b[0;34m\u001b[0m\u001b[0;34m\u001b[0m\u001b[0m\n",
      "\u001b[0;32m<ipython-input-11-b65ecb9cf646>\u001b[0m in \u001b[0;36mget_record_names\u001b[0;34m(path)\u001b[0m\n\u001b[1;32m      1\u001b[0m \u001b[0;32mdef\u001b[0m \u001b[0mget_record_names\u001b[0m\u001b[0;34m(\u001b[0m\u001b[0mpath\u001b[0m\u001b[0;34m)\u001b[0m\u001b[0;34m:\u001b[0m\u001b[0;34m\u001b[0m\u001b[0;34m\u001b[0m\u001b[0m\n\u001b[1;32m      2\u001b[0m     \u001b[0mprint\u001b[0m\u001b[0;34m(\u001b[0m\u001b[0mpath\u001b[0m\u001b[0;34m)\u001b[0m\u001b[0;34m\u001b[0m\u001b[0;34m\u001b[0m\u001b[0m\n\u001b[0;32m----> 3\u001b[0;31m     \u001b[0mdb\u001b[0m \u001b[0;34m=\u001b[0m \u001b[0mscreed\u001b[0m\u001b[0;34m.\u001b[0m\u001b[0mread_fasta_sequences\u001b[0m\u001b[0;34m(\u001b[0m\u001b[0mpath\u001b[0m\u001b[0;34m)\u001b[0m\u001b[0;34m\u001b[0m\u001b[0;34m\u001b[0m\u001b[0m\n\u001b[0m\u001b[1;32m      4\u001b[0m     \u001b[0mnames\u001b[0m \u001b[0;34m=\u001b[0m \u001b[0mdb\u001b[0m\u001b[0;34m.\u001b[0m\u001b[0mkeys\u001b[0m\u001b[0;34m(\u001b[0m\u001b[0;34m)\u001b[0m\u001b[0;34m\u001b[0m\u001b[0;34m\u001b[0m\u001b[0m\n\u001b[1;32m      5\u001b[0m     \u001b[0mdb\u001b[0m\u001b[0;34m.\u001b[0m\u001b[0mclose\u001b[0m\u001b[0;34m(\u001b[0m\u001b[0;34m)\u001b[0m\u001b[0;34m\u001b[0m\u001b[0;34m\u001b[0m\u001b[0m\n",
      "\u001b[0;32m~/miniconda3/lib/python3.7/site-packages/screed-1.0.4-py3.7.egg/screed/seqparse.py\u001b[0m in \u001b[0;36mread_fasta_sequences\u001b[0;34m(filename)\u001b[0m\n\u001b[1;32m     42\u001b[0m \u001b[0;34m\u001b[0m\u001b[0m\n\u001b[1;32m     43\u001b[0m     \u001b[0;31m# Create the screed db\u001b[0m\u001b[0;34m\u001b[0m\u001b[0;34m\u001b[0m\u001b[0;34m\u001b[0m\u001b[0m\n\u001b[0;32m---> 44\u001b[0;31m     \u001b[0mcreate_db\u001b[0m\u001b[0;34m(\u001b[0m\u001b[0mfilename\u001b[0m\u001b[0;34m,\u001b[0m \u001b[0mfasta\u001b[0m\u001b[0;34m.\u001b[0m\u001b[0mFieldTypes\u001b[0m\u001b[0;34m,\u001b[0m \u001b[0miterfunc\u001b[0m\u001b[0;34m)\u001b[0m\u001b[0;34m\u001b[0m\u001b[0;34m\u001b[0m\u001b[0m\n\u001b[0m\u001b[1;32m     45\u001b[0m \u001b[0;34m\u001b[0m\u001b[0m\n\u001b[1;32m     46\u001b[0m     \u001b[0;32mreturn\u001b[0m \u001b[0mScreedDB\u001b[0m\u001b[0;34m(\u001b[0m\u001b[0mfilename\u001b[0m\u001b[0;34m)\u001b[0m\u001b[0;34m\u001b[0m\u001b[0;34m\u001b[0m\u001b[0m\n",
      "\u001b[0;32m~/miniconda3/lib/python3.7/site-packages/screed-1.0.4-py3.7.egg/screed/createscreed.py\u001b[0m in \u001b[0;36mcreate_db\u001b[0;34m(filepath, fields, rcrditer)\u001b[0m\n\u001b[1;32m     94\u001b[0m     \u001b[0;31m# Make the index on the 'queryby' attribute\u001b[0m\u001b[0;34m\u001b[0m\u001b[0;34m\u001b[0m\u001b[0;34m\u001b[0m\u001b[0m\n\u001b[1;32m     95\u001b[0m     cur.execute('CREATE UNIQUE INDEX %sidx ON %s(%s)' %\n\u001b[0;32m---> 96\u001b[0;31m                 (queryby, DBConstants._DICT_TABLE, queryby))\n\u001b[0m\u001b[1;32m     97\u001b[0m \u001b[0;34m\u001b[0m\u001b[0m\n\u001b[1;32m     98\u001b[0m     \u001b[0mcon\u001b[0m\u001b[0;34m.\u001b[0m\u001b[0mcommit\u001b[0m\u001b[0;34m(\u001b[0m\u001b[0;34m)\u001b[0m\u001b[0;34m\u001b[0m\u001b[0;34m\u001b[0m\u001b[0m\n",
      "\u001b[0;31mIntegrityError\u001b[0m: UNIQUE constraint failed: DICTIONARY_TABLE.name"
     ]
    }
   ],
   "source": [
    "save_reads_only_in_k2g(1)"
   ]
  },
  {
   "cell_type": "code",
   "execution_count": null,
   "metadata": {},
   "outputs": [],
   "source": [
    "p = Pool(12)\n",
    "p.map(save_reads_only_in_k2g, k2g_fastas)"
   ]
  },
  {
   "cell_type": "code",
   "execution_count": null,
   "metadata": {},
   "outputs": [],
   "source": []
  }
 ],
 "metadata": {
  "kernelspec": {
   "display_name": "Python 3",
   "language": "python",
   "name": "python3"
  },
  "language_info": {
   "codemirror_mode": {
    "name": "ipython",
    "version": 3
   },
   "file_extension": ".py",
   "mimetype": "text/x-python",
   "name": "python",
   "nbconvert_exporter": "python",
   "pygments_lexer": "ipython3",
   "version": "3.7.3"
  }
 },
 "nbformat": 4,
 "nbformat_minor": 4
}
