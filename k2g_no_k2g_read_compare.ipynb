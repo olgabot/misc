{
 "cells": [
  {
   "cell_type": "code",
   "execution_count": 8,
   "metadata": {},
   "outputs": [
    {
     "name": "stdout",
     "output_type": "stream",
     "text": [
      "['/Users/pranathi.vemuri/miniconda3/envs/ipykernel_py2/lib/python2.7/site-packages/screed-0.7-py2.7.egg/screed']\n"
     ]
    }
   ],
   "source": [
    "import screed\n",
    "import glob\n",
    "import os\n",
    "import os\n",
    "print(screed.__path__)"
   ]
  },
  {
   "cell_type": "code",
   "execution_count": 6,
   "metadata": {},
   "outputs": [
    {
     "name": "stdout",
     "output_type": "stream",
     "text": [
      "0\n",
      "0\n"
     ]
    }
   ],
   "source": [
    "K2G_FASTA_PATH = \"/mnt/ibm_lg/pranathi/kmer-hashing/golumbeanu2018/kmermaid/k2g_uniprot/extract_coding/\"\n",
    "NO_K2G_FASTA_PATH = \"/mnt/ibm_lg/olga/kmer-hashing/golumbeanu2018/kmermaid/no_k2g_uniprot/extract_coding/\"\n",
    "K2G_INTERSECT = \"/mnt/ibm_lg/pranathi/kmer-hashing/golumbeanu2018/kmermaid/k2g_uniprot/analysis_july9/\"\n",
    "\n",
    "if not os.path.exists(K2G_INTERSECT):\n",
    "    os.makedirs(K2G_INTERSECT)\n",
    "else:\n",
    "    pass\n",
    "\n",
    "k2g_fastas = glob.glob(os.path.join(K2G_FASTA_PATH, \"*_peptides.fasta\"))\n",
    "no_k2g_fastas = glob.glob(os.path.join(NO_K2G_FASTA_PATH, \"*_peptides.fasta\"))\n",
    "print(len(k2g_fastas))\n",
    "print(len(no_k2g_fastas))"
   ]
  },
  {
   "cell_type": "code",
   "execution_count": 5,
   "metadata": {},
   "outputs": [],
   "source": [
    "def save_reads_only_in_k2g(k2g, no_k2g):\n",
    "    db_k2g = screed.read_fasta_sequences(k2g_fasta_peptide_sample)\n",
    "    db_no_k2g = screed.read_fasta_sequences(no_k2g_fasta_peptide_sample)\n",
    "    record_names_no_k2g = db_no_k2g.keys()\n",
    "    filename = os.path.join(K2G_INTERSECT, os.path.basename(k2g).replace(\".fasta\", \"_intersect.fasta\"))\n",
    "    result_fasta = open(filename, \"a\")\n",
    "    print record_names_no_k2g[:5]\n",
    "    for name in db_k2g:\n",
    "        if name not in record_names_no_k2g:\n",
    "            continue\n",
    "        result_fasta.write(\">{}\\n{}\\n\".format(name, db[name].sequence))  \n",
    "\n",
    "\n",
    "for k2g_fasta_peptide_sample in k2g_fastas:\n",
    "    no_k2g_fasta_peptide_sample = os.path.join(NO_K2G_FASTA_PATH, os.path.basename(k2g_fasta_peptide_sample))\n",
    "    save_reads_only_in_k2g(k2g_fasta_peptide_sample, no_k2g_fasta_peptide_sample)"
   ]
  },
  {
   "cell_type": "code",
   "execution_count": null,
   "metadata": {},
   "outputs": [],
   "source": []
  }
 ],
 "metadata": {
  "kernelspec": {
   "display_name": "Python 2",
   "language": "python",
   "name": "python2"
  },
  "language_info": {
   "codemirror_mode": {
    "name": "ipython",
    "version": 2
   },
   "file_extension": ".py",
   "mimetype": "text/x-python",
   "name": "python",
   "nbconvert_exporter": "python",
   "pygments_lexer": "ipython2",
   "version": "2.7.15"
  }
 },
 "nbformat": 4,
 "nbformat_minor": 4
}
